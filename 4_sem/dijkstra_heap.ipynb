{
 "cells": [
  {
   "cell_type": "code",
   "execution_count": 1,
   "id": "c155cbf5-d44f-4958-a853-f9fed1b2144d",
   "metadata": {},
   "outputs": [],
   "source": [
    "def construct_adj_list(edge_list, vert_num):\n",
    "    adj_list = [[] for _ in range(vert_num)]\n",
    "    for edge in edge_list:\n",
    "        src = edge[0]\n",
    "        dest = edge[1]\n",
    "        adj_list[src].append(dest)\n",
    "    return adj_list\n",
    "\n",
    "big_num = 1000000\n",
    "\n",
    "\n"
   ]
  },
  {
   "cell_type": "code",
   "execution_count": 2,
   "id": "58d6fb18-c19e-4ea3-958c-7cb960e21673",
   "metadata": {},
   "outputs": [],
   "source": [
    "edge_list = [\n",
    "    [0, 1], \n",
    "    [1, 3], [1, 6], \n",
    "    [3, 2], [3, 7], \n",
    "    [4, 2], \n",
    "    [6, 3], \n",
    "    [7, 4], [7, 5]\n",
    "]\n",
    "vert_num = 8\n",
    "# weight_list = [\n",
    "#     10, 20, 30\n",
    "# ]\n",
    "# vert_num = 4\n",
    "weight_list = [\n",
    "    5,\n",
    "    12, 3,\n",
    "    7, 1,\n",
    "    2,\n",
    "    4,\n",
    "    10, 3\n",
    "]\n",
    "adj_list = construct_adj_list(edge_list, vert_num)"
   ]
  },
  {
   "cell_type": "code",
   "execution_count": 3,
   "id": "a0693c2b-335d-4344-81c5-d407d480f1e8",
   "metadata": {},
   "outputs": [],
   "source": [
    "def construct_adj_matrix(edje_list, weight_list, vert_num):\n",
    "    adj_matrix = [[big_num for _ in range(vert_num)] for _ in range(vert_num)]\n",
    "\n",
    "    for edge, weight in zip(edge_list, weight_list):\n",
    "        src = edge[0]\n",
    "        dest = edge[1]\n",
    "        adj_matrix[src][dest] = weight\n",
    "\n",
    "    return adj_matrix"
   ]
  },
  {
   "cell_type": "code",
   "execution_count": 4,
   "id": "17f7b58d-7cd3-45da-9474-6d82956eaf02",
   "metadata": {},
   "outputs": [],
   "source": [
    "adj_matrix = construct_adj_matrix(edge_list, weight_list, vert_num)"
   ]
  },
  {
   "cell_type": "code",
   "execution_count": 15,
   "id": "26e735bf-1a6e-4058-b119-84f7cb741ac3",
   "metadata": {},
   "outputs": [],
   "source": [
    "import heapq\n",
    "\n",
    "\n",
    "\n",
    "def get_unused_closest(used, dist):\n",
    "    min_dist = big_num\n",
    "    u = None \n",
    "    heap = []\n",
    "    for i in range(len(used)):\n",
    "        if not used[i]:\n",
    "            heapq.heappush(heap, (dist[i], i))\n",
    "    min_dist, u = heapq.heappop(heap)\n",
    "    return u\n",
    "\n",
    "\n",
    "def dijkstra(adj_list, adj_matrix, src):\n",
    "    vert_num = len(adj_list)\n",
    "    dist = [big_num for _ in range(vert_num)]\n",
    "    used = [False for _ in range(vert_num)]\n",
    "    \n",
    "\n",
    "    dist[src] = 0\n",
    "\n",
    "    while not all(used): # use heap insted of linear search \n",
    "        u = None\n",
    "        u = get_unused_closest(used, dist)\n",
    "        # for i in range(vert_num):\n",
    "        #     if not used[i] and (u == None or dist[i] < dist[u]):\n",
    "        #         u = i\n",
    "\n",
    "        used[u] = True \n",
    "\n",
    "        \n",
    "        for v in adj_list[u]:\n",
    "            weight = adj_matrix[u][v]\n",
    "            if dist[v] > dist[u] + weight:\n",
    "                    dist[v] = dist[u] + weight\n",
    "\n",
    "    return dist \n"
   ]
  },
  {
   "cell_type": "code",
   "execution_count": 16,
   "id": "6546169b-942f-4dcb-b4ff-4bcf21b3b907",
   "metadata": {},
   "outputs": [
    {
     "data": {
      "text/plain": [
       "[0, 5, 19, 12, 23, 16, 8, 13]"
      ]
     },
     "execution_count": 16,
     "metadata": {},
     "output_type": "execute_result"
    }
   ],
   "source": [
    "dijkstra(adj_list, adj_matrix, 0)"
   ]
  },
  {
   "cell_type": "code",
   "execution_count": 17,
   "id": "ee4fd71f-3f55-4f5e-8056-393d49994f63",
   "metadata": {},
   "outputs": [
    {
     "name": "stdout",
     "output_type": "stream",
     "text": [
      "True\n"
     ]
    }
   ],
   "source": [
    "[[], ]"
   ]
  },
  {
   "cell_type": "code",
   "execution_count": null,
   "id": "e8c5ac2c-3a29-40bb-9e99-a3025a8810b8",
   "metadata": {},
   "outputs": [],
   "source": []
  }
 ],
 "metadata": {
  "kernelspec": {
   "display_name": "Python 3 (ipykernel)",
   "language": "python",
   "name": "python3"
  },
  "language_info": {
   "codemirror_mode": {
    "name": "ipython",
    "version": 3
   },
   "file_extension": ".py",
   "mimetype": "text/x-python",
   "name": "python",
   "nbconvert_exporter": "python",
   "pygments_lexer": "ipython3",
   "version": "3.11.5"
  }
 },
 "nbformat": 4,
 "nbformat_minor": 5
}
