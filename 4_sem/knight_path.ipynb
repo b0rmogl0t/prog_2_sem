{
 "cells": [
  {
   "cell_type": "code",
   "execution_count": 15,
   "id": "5bba0218-0132-4172-b6d7-4b6ad35c1f4e",
   "metadata": {},
   "outputs": [],
   "source": [
    "big_num = 1000000\n",
    "def bfs(adj_list, src):\n",
    "    vert_num = len(adj_list)\n",
    "    dist = [big_num for _ in range(vert_num)]\n",
    "\n",
    "    dist[src] = 0\n",
    "\n",
    "    queue = []\n",
    "    queue.append(src)\n",
    "\n",
    "    while queue:\n",
    "        u = queue.pop(0)\n",
    "        for v in adj_list[u]:\n",
    "            if dist[v] == big_num:\n",
    "                dist[v] = dist[u] + 1\n",
    "                queue.append(v)\n",
    "\n",
    "    return dist "
   ]
  },
  {
   "cell_type": "code",
   "execution_count": 37,
   "id": "0da85191-e0ad-44aa-b3d3-fe36820b0871",
   "metadata": {},
   "outputs": [],
   "source": [
    "#squares on chessboard are numbered fromm 0 to N-1\n",
    "def knight(N, x_0, y_0, x_1, y_1):\n",
    "    adj_list = [\n",
    "        [] for _ in range(N ** 2)\n",
    "    ]\n",
    "    for i in range(N):\n",
    "        for j in range(N):\n",
    "            if 0 <= (i - 2) <= N - 1 and 0 <= (j + 1) <= N - 1:\n",
    "                adj_list[i * N + j].append((i - 2) * N + (j + 1))\n",
    "            if 0 <= (i - 2) <= N - 1 and 0 <= (j - 1) <= N - 1:\n",
    "                adj_list[i * N + j].append((i - 2) * N + (j - 1))\n",
    "            if 0 <= (i + 2) <= N - 1 and 0 <= (j + 1) <= N - 1:\n",
    "                adj_list[i * N + j].append((i + 2) * N + (j + 1))\n",
    "            if 0 <= (i + 2) <= N - 1 and 0 <= (j - 1) <= N - 1:\n",
    "                adj_list[i * N + j].append((i + 2) * N + (j - 1))\n",
    "\n",
    "            if 0 <= (i - 1) <= N - 1 and 0 <= (j + 2) <= N - 1:\n",
    "                adj_list[i * N + j].append((i - 1) * N + (j + 2))\n",
    "            if 0 <= (i + 1) <= N - 1 and 0 <= (j - 2) <= N - 1:\n",
    "                adj_list[i * N + j].append((i + 1) * N + (j - 2))\n",
    "            if 0 <= (i - 1) <= N - 1 and 0 <= (j - 2) <= N - 1:\n",
    "                adj_list[i * N + j].append((i - 1) * N + (j - 2))\n",
    "            if 0 <= (i + 1) <= N - 1 and 0 <= (j + 2) <= N - 1:\n",
    "                adj_list[i * N + j].append((i + 1) * N + (j + 2))\n",
    "\n",
    "\n",
    "    src = x_0 * N + y_0\n",
    "    knight_path = bfs(adj_list, src)\n",
    "    return knight_path[x_1 * N + y_1]\n",
    " \n",
    "        \n",
    "        \n",
    "            \n"
   ]
  },
  {
   "cell_type": "code",
   "execution_count": 38,
   "id": "95521166-e3fb-4d00-bff0-b9b81364a876",
   "metadata": {},
   "outputs": [
    {
     "name": "stdout",
     "output_type": "stream",
     "text": [
      "4\n"
     ]
    }
   ],
   "source": [
    "print(knight(8, 1, 1, 6, 4))"
   ]
  },
  {
   "cell_type": "code",
   "execution_count": 39,
   "id": "0cead32c-73ec-4581-ae4d-6cf2ed8d59bc",
   "metadata": {},
   "outputs": [],
   "source": [
    "#squares on chessboard are numbered fromm 1 to N\n",
    "def knight_field_1_N(N, x_0, y_0, x_1, y_1):\n",
    "    adj_list = [\n",
    "        [] for _ in range(N ** 2)\n",
    "    ]\n",
    "    for k in range(1, N + 1):\n",
    "        for l in range(1, N + 1):\n",
    "            i = k - 1\n",
    "            j = l - 1\n",
    "            if 0 <= (i - 2) <= N - 1 and 0 <= (j + 1) <= N - 1:\n",
    "                adj_list[i * N + j].append((i - 2) * N + (j + 1))\n",
    "            if 0 <= (i - 2) <= N - 1 and 0 <= (j - 1) <= N - 1:\n",
    "                adj_list[i * N + j].append((i - 2) * N + (j - 1))\n",
    "            if 0 <= (i + 2) <= N - 1 and 0 <= (j + 1) <= N - 1:\n",
    "                adj_list[i * N + j].append((i + 2) * N + (j + 1))\n",
    "            if 0 <= (i + 2) <= N - 1 and 0 <= (j - 1) <= N - 1:\n",
    "                adj_list[i * N + j].append((i + 2) * N + (j - 1))\n",
    "\n",
    "            if 0 <= (i - 1) <= N - 1 and 0 <= (j + 2) <= N - 1:\n",
    "                adj_list[i * N + j].append((i - 1) * N + (j + 2))\n",
    "            if 0 <= (i + 1) <= N - 1 and 0 <= (j - 2) <= N - 1:\n",
    "                adj_list[i * N + j].append((i + 1) * N + (j - 2))\n",
    "            if 0 <= (i - 1) <= N - 1 and 0 <= (j - 2) <= N - 1:\n",
    "                adj_list[i * N + j].append((i - 1) * N + (j - 2))\n",
    "            if 0 <= (i + 1) <= N - 1 and 0 <= (j + 2) <= N - 1:\n",
    "                adj_list[i * N + j].append((i + 1) * N + (j + 2))\n",
    "\n",
    "\n",
    "    src = (x_0 - 1) * N + y_0 -1\n",
    "    knight_path = bfs(adj_list, src)\n",
    "    return knight_path[(x_1 - 1) * N + y_1 - 1]\n"
   ]
  },
  {
   "cell_type": "code",
   "execution_count": 36,
   "id": "6531a2c7-eb82-4e56-9415-16246374cbba",
   "metadata": {},
   "outputs": [
    {
     "name": "stdout",
     "output_type": "stream",
     "text": [
      "4\n"
     ]
    }
   ],
   "source": [
    "print(knight_field_1_N(8, 2, 2, 7, 5))"
   ]
  },
  {
   "cell_type": "code",
   "execution_count": null,
   "id": "b8a9ad93-9186-481e-baa6-4dd3e7cec1f4",
   "metadata": {},
   "outputs": [],
   "source": []
  }
 ],
 "metadata": {
  "kernelspec": {
   "display_name": "Python 3 (ipykernel)",
   "language": "python",
   "name": "python3"
  },
  "language_info": {
   "codemirror_mode": {
    "name": "ipython",
    "version": 3
   },
   "file_extension": ".py",
   "mimetype": "text/x-python",
   "name": "python",
   "nbconvert_exporter": "python",
   "pygments_lexer": "ipython3",
   "version": "3.11.5"
  }
 },
 "nbformat": 4,
 "nbformat_minor": 5
}
